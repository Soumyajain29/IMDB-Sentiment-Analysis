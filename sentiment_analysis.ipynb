{
  "nbformat": 4,
  "nbformat_minor": 0,
  "metadata": {
    "colab": {
      "name": "sentiment_analysis.ipynb",
      "provenance": [],
      "collapsed_sections": [],
      "mount_file_id": "1FpPD-alcbHCT7VDocIpYCVL8mHYucHuQ",
      "authorship_tag": "ABX9TyORa23TpxJSG8GLRaMjCGyS"
    },
    "kernelspec": {
      "name": "python3",
      "display_name": "Python 3"
    }
  },
  "cells": [
    {
      "cell_type": "code",
      "metadata": {
        "id": "oSIfGi1wkaOE",
        "colab_type": "code",
        "colab": {
          "base_uri": "https://localhost:8080/",
          "height": 212
        },
        "outputId": "3f3f2385-99f2-42e9-c780-90066286cbbd"
      },
      "source": [
        "!wget 'https://ai.stanford.edu/~amaas/data/sentiment/aclImdb_v1.tar.gz' -P '/content/drive/My Drive/Datasets'"
      ],
      "execution_count": null,
      "outputs": [
        {
          "output_type": "stream",
          "text": [
            "--2020-07-30 07:32:38--  https://ai.stanford.edu/~amaas/data/sentiment/aclImdb_v1.tar.gz\n",
            "Resolving ai.stanford.edu (ai.stanford.edu)... 171.64.68.10\n",
            "Connecting to ai.stanford.edu (ai.stanford.edu)|171.64.68.10|:443... connected.\n",
            "HTTP request sent, awaiting response... 200 OK\n",
            "Length: 84125825 (80M) [application/x-gzip]\n",
            "Saving to: ‘/content/drive/My Drive/Datasets/aclImdb_v1.tar.gz’\n",
            "\n",
            "aclImdb_v1.tar.gz   100%[===================>]  80.23M  23.9MB/s    in 4.8s    \n",
            "\n",
            "2020-07-30 07:32:43 (16.6 MB/s) - ‘/content/drive/My Drive/Datasets/aclImdb_v1.tar.gz’ saved [84125825/84125825]\n",
            "\n"
          ],
          "name": "stdout"
        }
      ]
    },
    {
      "cell_type": "code",
      "metadata": {
        "id": "8fKbQ1ySsg9j",
        "colab_type": "code",
        "colab": {}
      },
      "source": [
        "import tarfile\n",
        "fname = '/content/drive/My Drive/Datasets/aclImdb_v1.tar.gz'\n",
        "with tarfile.open(fname) as tar:\n",
        "    tar.extractall(path = '/content/drive/My Drive/Datasets')\n",
        "    print('extracted')"
      ],
      "execution_count": null,
      "outputs": []
    },
    {
      "cell_type": "code",
      "metadata": {
        "id": "6zJRxfNzDEpK",
        "colab_type": "code",
        "colab": {}
      },
      "source": [
        "base = \"/content/drive/My Drive/Datasets/aclImdb/\"\n",
        "train_pos_path = base + \"train/pos\"\n",
        "train_neg_path = base + \"train/neg\"\n",
        "test_pos_path  = base + \"test/pos\"\n",
        "test_neg_path  = base + \"test/neg\"\n",
        "train_file = base + \"train.csv\"\n",
        "test_file  = base + \"test.csv\""
      ],
      "execution_count": 1,
      "outputs": []
    },
    {
      "cell_type": "code",
      "metadata": {
        "id": "Uc3hy8Ensx5o",
        "colab_type": "code",
        "colab": {
          "base_uri": "https://localhost:8080/",
          "height": 52
        },
        "outputId": "55c21ddb-b271-4b25-e1be-8fb9409c2f24"
      },
      "source": [
        "import os\n",
        "import csv\n",
        "\n",
        "def create_data_file(pos_path , neg_path , output):\n",
        "  with open(output, 'w') as outfile:\n",
        "      csvout = csv.writer(outfile)\n",
        "      csvout.writerow(['sentiment', 'review'])\n",
        "\n",
        "      files = os.listdir(neg_path)\n",
        "\n",
        "      for filename in files:\n",
        "          with open(neg_path + '/' + filename) as review_file:\n",
        "              csvout.writerow([0, review_file.read()])\n",
        "\n",
        "      files = os.listdir(pos_path)\n",
        "\n",
        "      for filename in files:\n",
        "          with open(pos_path + '/' + filename) as review_file:\n",
        "              csvout.writerow([1, review_file.read()])\n",
        "\n",
        "create_data_file(train_pos_path , train_neg_path , train_file)\n",
        "print(\"train.csv file created\")\n",
        "create_data_file(test_pos_path , test_neg_path , test_file)\n",
        "print(\"test.csv file created\")"
      ],
      "execution_count": null,
      "outputs": [
        {
          "output_type": "stream",
          "text": [
            "train.csv file created\n",
            "test.csv file created\n"
          ],
          "name": "stdout"
        }
      ]
    },
    {
      "cell_type": "code",
      "metadata": {
        "id": "VOdJj45IJKx1",
        "colab_type": "code",
        "colab": {}
      },
      "source": [
        "def evaluate(name,actual_label , pred_label):\n",
        "  score = accuracy_score(actual_label , pred_label)\n",
        "  print(name + \" accuracy :\", score*100)"
      ],
      "execution_count": 2,
      "outputs": []
    },
    {
      "cell_type": "code",
      "metadata": {
        "id": "KIwRUyLd0PcV",
        "colab_type": "code",
        "colab": {}
      },
      "source": [
        "import pandas as pd\n",
        "import numpy as np"
      ],
      "execution_count": 3,
      "outputs": []
    },
    {
      "cell_type": "code",
      "metadata": {
        "id": "-NmaXKvE0X02",
        "colab_type": "code",
        "colab": {}
      },
      "source": [
        "train_df = pd.read_csv(train_file)\n",
        "test_df = pd.read_csv(test_file)"
      ],
      "execution_count": 4,
      "outputs": []
    },
    {
      "cell_type": "code",
      "metadata": {
        "id": "kyFOxU0A1RFY",
        "colab_type": "code",
        "colab": {
          "base_uri": "https://localhost:8080/",
          "height": 170
        },
        "outputId": "8b1a4c90-381b-4d15-a91f-46675291a5b6"
      },
      "source": [
        "train_df[:4]"
      ],
      "execution_count": 5,
      "outputs": [
        {
          "output_type": "execute_result",
          "data": {
            "text/html": [
              "<div>\n",
              "<style scoped>\n",
              "    .dataframe tbody tr th:only-of-type {\n",
              "        vertical-align: middle;\n",
              "    }\n",
              "\n",
              "    .dataframe tbody tr th {\n",
              "        vertical-align: top;\n",
              "    }\n",
              "\n",
              "    .dataframe thead th {\n",
              "        text-align: right;\n",
              "    }\n",
              "</style>\n",
              "<table border=\"1\" class=\"dataframe\">\n",
              "  <thead>\n",
              "    <tr style=\"text-align: right;\">\n",
              "      <th></th>\n",
              "      <th>sentiment</th>\n",
              "      <th>review</th>\n",
              "    </tr>\n",
              "  </thead>\n",
              "  <tbody>\n",
              "    <tr>\n",
              "      <th>0</th>\n",
              "      <td>0</td>\n",
              "      <td>It wasn't good. The characters were underdevel...</td>\n",
              "    </tr>\n",
              "    <tr>\n",
              "      <th>1</th>\n",
              "      <td>0</td>\n",
              "      <td>I wanted to see the movie because of an articl...</td>\n",
              "    </tr>\n",
              "    <tr>\n",
              "      <th>2</th>\n",
              "      <td>0</td>\n",
              "      <td>For me this is a story that starts with some f...</td>\n",
              "    </tr>\n",
              "    <tr>\n",
              "      <th>3</th>\n",
              "      <td>0</td>\n",
              "      <td>I Am Curious is really two films in one - half...</td>\n",
              "    </tr>\n",
              "  </tbody>\n",
              "</table>\n",
              "</div>"
            ],
            "text/plain": [
              "   sentiment                                             review\n",
              "0          0  It wasn't good. The characters were underdevel...\n",
              "1          0  I wanted to see the movie because of an articl...\n",
              "2          0  For me this is a story that starts with some f...\n",
              "3          0  I Am Curious is really two films in one - half..."
            ]
          },
          "metadata": {
            "tags": []
          },
          "execution_count": 5
        }
      ]
    },
    {
      "cell_type": "code",
      "metadata": {
        "id": "ZgolhRcdAHK7",
        "colab_type": "code",
        "colab": {
          "base_uri": "https://localhost:8080/",
          "height": 170
        },
        "outputId": "81b4deba-7401-47cc-b3bb-b8f09a8b3cb3"
      },
      "source": [
        "test_df[:4]"
      ],
      "execution_count": 6,
      "outputs": [
        {
          "output_type": "execute_result",
          "data": {
            "text/html": [
              "<div>\n",
              "<style scoped>\n",
              "    .dataframe tbody tr th:only-of-type {\n",
              "        vertical-align: middle;\n",
              "    }\n",
              "\n",
              "    .dataframe tbody tr th {\n",
              "        vertical-align: top;\n",
              "    }\n",
              "\n",
              "    .dataframe thead th {\n",
              "        text-align: right;\n",
              "    }\n",
              "</style>\n",
              "<table border=\"1\" class=\"dataframe\">\n",
              "  <thead>\n",
              "    <tr style=\"text-align: right;\">\n",
              "      <th></th>\n",
              "      <th>sentiment</th>\n",
              "      <th>review</th>\n",
              "    </tr>\n",
              "  </thead>\n",
              "  <tbody>\n",
              "    <tr>\n",
              "      <th>0</th>\n",
              "      <td>0</td>\n",
              "      <td>Two page boys working at a radio network go fr...</td>\n",
              "    </tr>\n",
              "    <tr>\n",
              "      <th>1</th>\n",
              "      <td>0</td>\n",
              "      <td>Rebecca De Mornay can be a fascinating beautif...</td>\n",
              "    </tr>\n",
              "    <tr>\n",
              "      <th>2</th>\n",
              "      <td>0</td>\n",
              "      <td>This film is slow. This film is cheap. This fi...</td>\n",
              "    </tr>\n",
              "    <tr>\n",
              "      <th>3</th>\n",
              "      <td>0</td>\n",
              "      <td>I saw this movie on the strength of the single...</td>\n",
              "    </tr>\n",
              "  </tbody>\n",
              "</table>\n",
              "</div>"
            ],
            "text/plain": [
              "   sentiment                                             review\n",
              "0          0  Two page boys working at a radio network go fr...\n",
              "1          0  Rebecca De Mornay can be a fascinating beautif...\n",
              "2          0  This film is slow. This film is cheap. This fi...\n",
              "3          0  I saw this movie on the strength of the single..."
            ]
          },
          "metadata": {
            "tags": []
          },
          "execution_count": 6
        }
      ]
    },
    {
      "cell_type": "code",
      "metadata": {
        "id": "ucImgiaa1cLP",
        "colab_type": "code",
        "colab": {}
      },
      "source": [
        "train_df = train_df.sample(frac=1, random_state = 42).reset_index(drop=True)   #shuffle the data_frame rows\n",
        "test_df  = test_df.sample(frac=1 , random_state = 42).reset_index(drop=True)"
      ],
      "execution_count": 7,
      "outputs": []
    },
    {
      "cell_type": "code",
      "metadata": {
        "id": "9zz5JgHu2pQS",
        "colab_type": "code",
        "colab": {
          "base_uri": "https://localhost:8080/",
          "height": 187
        },
        "outputId": "696b0976-a32f-4b00-e007-c9a723947821"
      },
      "source": [
        "print(train_df.shape , test_df.shape)\n",
        "train_df[:4]"
      ],
      "execution_count": 8,
      "outputs": [
        {
          "output_type": "stream",
          "text": [
            "(25000, 2) (25000, 2)\n"
          ],
          "name": "stdout"
        },
        {
          "output_type": "execute_result",
          "data": {
            "text/html": [
              "<div>\n",
              "<style scoped>\n",
              "    .dataframe tbody tr th:only-of-type {\n",
              "        vertical-align: middle;\n",
              "    }\n",
              "\n",
              "    .dataframe tbody tr th {\n",
              "        vertical-align: top;\n",
              "    }\n",
              "\n",
              "    .dataframe thead th {\n",
              "        text-align: right;\n",
              "    }\n",
              "</style>\n",
              "<table border=\"1\" class=\"dataframe\">\n",
              "  <thead>\n",
              "    <tr style=\"text-align: right;\">\n",
              "      <th></th>\n",
              "      <th>sentiment</th>\n",
              "      <th>review</th>\n",
              "    </tr>\n",
              "  </thead>\n",
              "  <tbody>\n",
              "    <tr>\n",
              "      <th>0</th>\n",
              "      <td>0</td>\n",
              "      <td>I almost burst into tears watching this movie....</td>\n",
              "    </tr>\n",
              "    <tr>\n",
              "      <th>1</th>\n",
              "      <td>1</td>\n",
              "      <td>Well, it definitely is unlike anything else di...</td>\n",
              "    </tr>\n",
              "    <tr>\n",
              "      <th>2</th>\n",
              "      <td>0</td>\n",
              "      <td>This piece of crap, since I can't call it a mo...</td>\n",
              "    </tr>\n",
              "    <tr>\n",
              "      <th>3</th>\n",
              "      <td>1</td>\n",
              "      <td>More a snapshot of the most popular pinup of a...</td>\n",
              "    </tr>\n",
              "  </tbody>\n",
              "</table>\n",
              "</div>"
            ],
            "text/plain": [
              "   sentiment                                             review\n",
              "0          0  I almost burst into tears watching this movie....\n",
              "1          1  Well, it definitely is unlike anything else di...\n",
              "2          0  This piece of crap, since I can't call it a mo...\n",
              "3          1  More a snapshot of the most popular pinup of a..."
            ]
          },
          "metadata": {
            "tags": []
          },
          "execution_count": 8
        }
      ]
    },
    {
      "cell_type": "code",
      "metadata": {
        "id": "1H8Y8fH9CA-p",
        "colab_type": "code",
        "colab": {
          "base_uri": "https://localhost:8080/",
          "height": 170
        },
        "outputId": "ad7a6bfd-cafc-41a1-a7f1-e2f6e83178bb"
      },
      "source": [
        "test_df[:4]"
      ],
      "execution_count": 9,
      "outputs": [
        {
          "output_type": "execute_result",
          "data": {
            "text/html": [
              "<div>\n",
              "<style scoped>\n",
              "    .dataframe tbody tr th:only-of-type {\n",
              "        vertical-align: middle;\n",
              "    }\n",
              "\n",
              "    .dataframe tbody tr th {\n",
              "        vertical-align: top;\n",
              "    }\n",
              "\n",
              "    .dataframe thead th {\n",
              "        text-align: right;\n",
              "    }\n",
              "</style>\n",
              "<table border=\"1\" class=\"dataframe\">\n",
              "  <thead>\n",
              "    <tr style=\"text-align: right;\">\n",
              "      <th></th>\n",
              "      <th>sentiment</th>\n",
              "      <th>review</th>\n",
              "    </tr>\n",
              "  </thead>\n",
              "  <tbody>\n",
              "    <tr>\n",
              "      <th>0</th>\n",
              "      <td>0</td>\n",
              "      <td>Asia Argento has never done a film (so far as ...</td>\n",
              "    </tr>\n",
              "    <tr>\n",
              "      <th>1</th>\n",
              "      <td>1</td>\n",
              "      <td>Meatballs is a classic comedy with so many lau...</td>\n",
              "    </tr>\n",
              "    <tr>\n",
              "      <th>2</th>\n",
              "      <td>0</td>\n",
              "      <td>Harry Knowles has a quote right on the front c...</td>\n",
              "    </tr>\n",
              "    <tr>\n",
              "      <th>3</th>\n",
              "      <td>1</td>\n",
              "      <td>Before you watch this movie - clean your ears,...</td>\n",
              "    </tr>\n",
              "  </tbody>\n",
              "</table>\n",
              "</div>"
            ],
            "text/plain": [
              "   sentiment                                             review\n",
              "0          0  Asia Argento has never done a film (so far as ...\n",
              "1          1  Meatballs is a classic comedy with so many lau...\n",
              "2          0  Harry Knowles has a quote right on the front c...\n",
              "3          1  Before you watch this movie - clean your ears,..."
            ]
          },
          "metadata": {
            "tags": []
          },
          "execution_count": 9
        }
      ]
    },
    {
      "cell_type": "code",
      "metadata": {
        "id": "tfjO_7FN2y33",
        "colab_type": "code",
        "colab": {}
      },
      "source": [
        "from sklearn.feature_extraction.text import TfidfVectorizer\n",
        "from sklearn.linear_model import LogisticRegression\n",
        "from sklearn.metrics import accuracy_score"
      ],
      "execution_count": 10,
      "outputs": []
    },
    {
      "cell_type": "code",
      "metadata": {
        "id": "Mgn7jDRXCygi",
        "colab_type": "code",
        "colab": {}
      },
      "source": [
        "tfidf_model = TfidfVectorizer(strip_accents= 'ascii' ,analyzer = 'word',\n",
        "                              stop_words= 'english' ,lowercase = True ,\n",
        "                              max_features=20000 ,sublinear_tf = True ,norm = 'l2')\n",
        "tfidf_train_reviews  = tfidf_model.fit_transform(train_df['review'])\n",
        "tfidf_test_reviews = tfidf_model.transform(test_df['review'])"
      ],
      "execution_count": 150,
      "outputs": []
    },
    {
      "cell_type": "code",
      "metadata": {
        "id": "reYmBq6yD5zq",
        "colab_type": "code",
        "colab": {
          "base_uri": "https://localhost:8080/",
          "height": 35
        },
        "outputId": "44e06177-3874-4000-9d65-f47ab20c48a6"
      },
      "source": [
        "tfidf_train_reviews.shape"
      ],
      "execution_count": 151,
      "outputs": [
        {
          "output_type": "execute_result",
          "data": {
            "text/plain": [
              "(25000, 20000)"
            ]
          },
          "metadata": {
            "tags": []
          },
          "execution_count": 151
        }
      ]
    },
    {
      "cell_type": "code",
      "metadata": {
        "id": "9H53S51dIH8O",
        "colab_type": "code",
        "colab": {
          "base_uri": "https://localhost:8080/",
          "height": 52
        },
        "outputId": "143ea406-ca81-40b9-ff13-db7dcdfc337d"
      },
      "source": [
        "tfidf_train_reviews"
      ],
      "execution_count": 152,
      "outputs": [
        {
          "output_type": "execute_result",
          "data": {
            "text/plain": [
              "<25000x20000 sparse matrix of type '<class 'numpy.float64'>'\n",
              "\twith 2120077 stored elements in Compressed Sparse Row format>"
            ]
          },
          "metadata": {
            "tags": []
          },
          "execution_count": 152
        }
      ]
    },
    {
      "cell_type": "code",
      "metadata": {
        "id": "t1dH2XFQhS7i",
        "colab_type": "code",
        "colab": {
          "base_uri": "https://localhost:8080/",
          "height": 497
        },
        "outputId": "7eda710a-082c-48b6-888c-541ee17a7e1f"
      },
      "source": [
        "from sklearn.model_selection import GridSearchCV\n",
        "LR = LogisticRegression(random_state=42)\n",
        "params = {'C':[1,2,3,5,10,50,100] , 'penalty' : ['l2'] , 'solver' : ['newton-cg' , 'lbfgs' , 'liblinear'] , 'max_iter' : [200,300,400,500,700]}\n",
        "model = GridSearchCV(LR, params , n_jobs= -1 ,verbose = 10,cv = 3)\n",
        "model = model.fit(tfidf_train_reviews , train_df['sentiment'])\n",
        "model.best_params_"
      ],
      "execution_count": 93,
      "outputs": [
        {
          "output_type": "stream",
          "text": [
            "Fitting 3 folds for each of 105 candidates, totalling 315 fits\n"
          ],
          "name": "stdout"
        },
        {
          "output_type": "stream",
          "text": [
            "[Parallel(n_jobs=-1)]: Using backend LokyBackend with 2 concurrent workers.\n",
            "[Parallel(n_jobs=-1)]: Done   1 tasks      | elapsed:    1.2s\n",
            "[Parallel(n_jobs=-1)]: Done   4 tasks      | elapsed:    2.5s\n",
            "[Parallel(n_jobs=-1)]: Done   9 tasks      | elapsed:    4.1s\n",
            "[Parallel(n_jobs=-1)]: Done  14 tasks      | elapsed:    6.9s\n",
            "[Parallel(n_jobs=-1)]: Done  21 tasks      | elapsed:   10.0s\n",
            "[Parallel(n_jobs=-1)]: Done  28 tasks      | elapsed:   12.8s\n",
            "[Parallel(n_jobs=-1)]: Done  37 tasks      | elapsed:   16.7s\n",
            "[Parallel(n_jobs=-1)]: Done  46 tasks      | elapsed:   20.7s\n",
            "[Parallel(n_jobs=-1)]: Done  57 tasks      | elapsed:   25.3s\n",
            "[Parallel(n_jobs=-1)]: Done  68 tasks      | elapsed:   29.9s\n",
            "[Parallel(n_jobs=-1)]: Done  81 tasks      | elapsed:   35.0s\n",
            "[Parallel(n_jobs=-1)]: Done  94 tasks      | elapsed:   41.2s\n",
            "[Parallel(n_jobs=-1)]: Done 109 tasks      | elapsed:   47.4s\n",
            "[Parallel(n_jobs=-1)]: Done 124 tasks      | elapsed:   53.7s\n",
            "[Parallel(n_jobs=-1)]: Done 141 tasks      | elapsed:  1.0min\n",
            "[Parallel(n_jobs=-1)]: Done 158 tasks      | elapsed:  1.2min\n",
            "[Parallel(n_jobs=-1)]: Done 177 tasks      | elapsed:  1.4min\n",
            "[Parallel(n_jobs=-1)]: Done 196 tasks      | elapsed:  1.6min\n",
            "[Parallel(n_jobs=-1)]: Done 217 tasks      | elapsed:  1.8min\n",
            "[Parallel(n_jobs=-1)]: Done 238 tasks      | elapsed:  2.1min\n",
            "[Parallel(n_jobs=-1)]: Done 261 tasks      | elapsed:  2.5min\n",
            "[Parallel(n_jobs=-1)]: Done 284 tasks      | elapsed:  2.9min\n",
            "[Parallel(n_jobs=-1)]: Done 309 tasks      | elapsed:  3.2min\n",
            "[Parallel(n_jobs=-1)]: Done 315 out of 315 | elapsed:  3.3min finished\n"
          ],
          "name": "stderr"
        },
        {
          "output_type": "execute_result",
          "data": {
            "text/plain": [
              "{'C': 2, 'max_iter': 200, 'penalty': 'l2', 'solver': 'lbfgs'}"
            ]
          },
          "metadata": {
            "tags": []
          },
          "execution_count": 93
        }
      ]
    },
    {
      "cell_type": "code",
      "metadata": {
        "id": "RFXyvMlPtYr2",
        "colab_type": "code",
        "colab": {}
      },
      "source": [
        "LR_model = LogisticRegression(C=2,random_state=42 ,max_iter = 200 , penalty= 'l2') \n",
        "LR_model = LR_model.fit(tfidf_train_reviews , train_df['sentiment'])"
      ],
      "execution_count": 94,
      "outputs": []
    },
    {
      "cell_type": "code",
      "metadata": {
        "id": "5zTm23wrZLj-",
        "colab_type": "code",
        "colab": {
          "base_uri": "https://localhost:8080/",
          "height": 52
        },
        "outputId": "836b5ceb-1c14-4976-86d8-55e2f9fc1bcd"
      },
      "source": [
        "test_pred = LR_model.predict(tfidf_test_reviews)\n",
        "train_pred = LR_model.predict(tfidf_train_reviews)\n",
        "evaluate('train',train_df[\"sentiment\"],train_pred)\n",
        "evaluate('test',test_df[\"sentiment\"],test_pred)"
      ],
      "execution_count": 95,
      "outputs": [
        {
          "output_type": "stream",
          "text": [
            "train accuracy : 95.07600000000001\n",
            "test accuracy : 88.52799999999999\n"
          ],
          "name": "stdout"
        }
      ]
    },
    {
      "cell_type": "code",
      "metadata": {
        "id": "c51UJWFruSUh",
        "colab_type": "code",
        "colab": {
          "base_uri": "https://localhost:8080/",
          "height": 35
        },
        "outputId": "e6cbbc7d-8c25-4f39-a063-96c3c6c427fd"
      },
      "source": [
        "!pip install unidecode"
      ],
      "execution_count": 103,
      "outputs": [
        {
          "output_type": "stream",
          "text": [
            "Requirement already satisfied: unidecode in /usr/local/lib/python3.6/dist-packages (1.1.1)\n"
          ],
          "name": "stdout"
        }
      ]
    },
    {
      "cell_type": "code",
      "metadata": {
        "id": "_l68I0r88pMD",
        "colab_type": "code",
        "colab": {}
      },
      "source": [
        "import re\n",
        "import unidecode\n",
        "def preprocessor(text):\n",
        "  m_text = text.strip()\n",
        "  m_text = unidecode.unidecode(m_text)\n",
        "  m_text = re.sub(r'[^a-zA-Z_\\s+0-9]','',m_text)\n",
        "  return m_text"
      ],
      "execution_count": 17,
      "outputs": []
    },
    {
      "cell_type": "code",
      "metadata": {
        "id": "8hbZRl1pCeAU",
        "colab_type": "code",
        "colab": {}
      },
      "source": [
        "import spacy\n",
        "nlp = spacy.load('en_core_web_sm')\n",
        "def tokenizer(text):\n",
        "    doc = nlp(text)\n",
        "    doc = [token for token in doc if not (token.is_punct or token.is_stop)]\n",
        "    doc = [token.lemma_ if token.pos_ is not 'PRON' else token.text for token in doc]\n",
        "    return doc"
      ],
      "execution_count": 18,
      "outputs": []
    },
    {
      "cell_type": "code",
      "metadata": {
        "id": "HSEwUt0UCtIJ",
        "colab_type": "code",
        "colab": {}
      },
      "source": [
        "tfidf_model = TfidfVectorizer(preprocessor= preprocessor,tokenizer=tokenizer\n",
        "                             ,strip_accents= None ,analyzer = 'word',\n",
        "                              stop_words= None ,lowercase = True\n",
        "                              ,max_features = 20000 , sublinear_tf = True\n",
        "                              )\n",
        "tfidf_train_reviews  = tfidf_model.fit_transform(train_df['review'])\n",
        "tfidf_test_reviews = tfidf_model.transform(test_df['review'])"
      ],
      "execution_count": 20,
      "outputs": []
    },
    {
      "cell_type": "code",
      "metadata": {
        "id": "j1ixWyZFk3FR",
        "colab_type": "code",
        "colab": {}
      },
      "source": [
        "import pickle\n",
        "with open(base + 'train_tfidf_vec' , 'wb') as tfidfvec:\n",
        "  pickle.dump(tfidf_train_reviews,tfidfvec)\n",
        "\n",
        "with open(base + 'test_tfidf_vec' , 'wb') as tfidfvec:\n",
        "  pickle.dump(tfidf_test_reviews , tfidfvec)"
      ],
      "execution_count": 21,
      "outputs": []
    },
    {
      "cell_type": "code",
      "metadata": {
        "id": "sWPeS8CiYFgZ",
        "colab_type": "code",
        "colab": {}
      },
      "source": [
        "tfidf_train_reviews =  pickle.load(open(base + 'train_tfidf_vec' , 'rb'))\n",
        "tfidf_test_reviews =  pickle.load(open(base + 'test_tfidf_vec' , 'rb'))"
      ],
      "execution_count": 25,
      "outputs": []
    },
    {
      "cell_type": "code",
      "metadata": {
        "id": "JExk2XyrHAV4",
        "colab_type": "code",
        "colab": {
          "base_uri": "https://localhost:8080/",
          "height": 106
        },
        "outputId": "d085463e-03ad-4d76-9706-4b30252f4c6f"
      },
      "source": [
        "model = LogisticRegression(C=2, random_state=42, max_iter = 100)\n",
        "model.fit(tfidf_train_reviews , train_df['sentiment'])"
      ],
      "execution_count": 41,
      "outputs": [
        {
          "output_type": "execute_result",
          "data": {
            "text/plain": [
              "LogisticRegression(C=2, class_weight=None, dual=False, fit_intercept=True,\n",
              "                   intercept_scaling=1, l1_ratio=None, max_iter=100,\n",
              "                   multi_class='auto', n_jobs=None, penalty='l2',\n",
              "                   random_state=42, solver='lbfgs', tol=0.0001, verbose=0,\n",
              "                   warm_start=False)"
            ]
          },
          "metadata": {
            "tags": []
          },
          "execution_count": 41
        }
      ]
    },
    {
      "cell_type": "code",
      "metadata": {
        "id": "cQeTO5jMf2C-",
        "colab_type": "code",
        "colab": {
          "base_uri": "https://localhost:8080/",
          "height": 52
        },
        "outputId": "a1a56e04-97c1-4dba-e403-b2b5d12ed4d5"
      },
      "source": [
        "test_pred = model.predict(tfidf_test_reviews)\n",
        "train_pred = model.predict(tfidf_train_reviews)\n",
        "evaluate('train',train_df[\"sentiment\"],train_pred)\n",
        "evaluate('test',test_df[\"sentiment\"],test_pred)"
      ],
      "execution_count": 42,
      "outputs": [
        {
          "output_type": "stream",
          "text": [
            "train accuracy : 94.732\n",
            "test accuracy : 88.012\n"
          ],
          "name": "stdout"
        }
      ]
    },
    {
      "cell_type": "code",
      "metadata": {
        "id": "p07S04l8MSoX",
        "colab_type": "code",
        "colab": {}
      },
      "source": [
        "from xgboost.sklearn import XGBClassifier\n",
        "\n",
        "model = XGBClassifier(learning_rate= .5, \n",
        "                  #max_depth= 1,\n",
        "                  #min_child_weight= 16,\n",
        "                  n_estimators= 500,\n",
        "                  verbosity =1\n",
        "                  #booster = 'gbtree'\n",
        "                  )\n",
        "\n",
        "model = model.fit(tfidf_train_reviews , train_df['sentiment'])\n",
        "\n",
        "xg_model = xgboost()"
      ],
      "execution_count": 184,
      "outputs": []
    },
    {
      "cell_type": "code",
      "metadata": {
        "id": "M_A00SlZODjG",
        "colab_type": "code",
        "colab": {
          "base_uri": "https://localhost:8080/",
          "height": 52
        },
        "outputId": "155e8df3-c6f4-4c31-a58e-3805f189fd79"
      },
      "source": [
        "test_pred = xg_model.predict(tfidf_test_reviews)\n",
        "train_pred = xg_model.predict(tfidf_train_reviews)\n",
        "evaluate('train',train_df[\"sentiment\"],train_pred)\n",
        "evaluate('test',test_df[\"sentiment\"],test_pred)"
      ],
      "execution_count": 185,
      "outputs": [
        {
          "output_type": "stream",
          "text": [
            "train accuracy : 97.49600000000001\n",
            "test accuracy : 85.47200000000001\n"
          ],
          "name": "stdout"
        }
      ]
    }
  ]
}